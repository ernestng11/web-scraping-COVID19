{
 "cells": [
  {
   "cell_type": "code",
   "execution_count": 258,
   "metadata": {},
   "outputs": [],
   "source": [
    "# import packages\n",
    "from __future__ import print_function\n",
    "import requests\n",
    "import json\n",
    "import re\n",
    "from bs4 import BeautifulSoup\n",
    "import pandas as pd\n",
    "pd.options.display.max_columns = 10\n",
    "pd.options.mode.chained_assignment = None\n",
    "import numpy as np\n",
    "from datetime import datetime\n",
    "from tqdm import tqdm\n",
    "from matplotlib import pyplot as plt\n",
    "from nltk.tokenize import word_tokenize, sent_tokenize\n",
    "from nltk.corpus import stopwords\n",
    "from string import punctuation\n",
    "from collections import Counter\n",
    "from functools import reduce\n",
    "from selenium import webdriver\n"
   ]
  },
  {
   "cell_type": "markdown",
   "metadata": {},
   "source": [
    "Methods for scraping each page"
   ]
  },
  {
   "cell_type": "code",
   "execution_count": 332,
   "metadata": {},
   "outputs": [],
   "source": [
    "def getUrls(page_no): #takes in page number\n",
    "    source_url = 'https://www.businesstimes.com.sg/search/coronavirus?page='+str(page_no)\n",
    "    res = requests.get(source_url)\n",
    "    bsoup = BeautifulSoup(res.content, features = 'html.parser')\n",
    "    contents = bsoup.findAll(\"div\",{\"class\":\"media-body\"})\n",
    "    urls = []\n",
    "    for content in contents:\n",
    "        urls.append(content.a['href'])\n",
    "    return urls\n",
    "def getHeader(page_no):\n",
    "    source_url = 'https://www.businesstimes.com.sg/search/coronavirus?page='+str(page_no)\n",
    "    res = requests.get(source_url)\n",
    "    bsoup = BeautifulSoup(res.content, features = 'html.parser')\n",
    "    contents = bsoup.findAll(\"div\",{\"class\":\"media-body\"})\n",
    "    headers = []\n",
    "    for content in contents:\n",
    "        headers.append(content.a.text)\n",
    "    return headers\n",
    "def getDesc(page_no):\n",
    "    source_url = 'https://www.businesstimes.com.sg/search/coronavirus?page='+str(page_no)\n",
    "    res = requests.get(source_url)\n",
    "    bsoup = BeautifulSoup(res.content, features = 'html.parser')\n",
    "    contents = bsoup.findAll(\"div\",{\"class\":\"media-body\"})\n",
    "    descs = []\n",
    "    for content in contents:\n",
    "        descs.append(content.p.text)\n",
    "    return descs\n",
    "def getDates(page_no):\n",
    "    source_url = 'https://www.businesstimes.com.sg/search/coronavirus?page='+str(page_no)\n",
    "    res = requests.get(source_url)\n",
    "    bsoup = BeautifulSoup(res.content, features = 'html.parser')\n",
    "    contents = bsoup.findAll(\"div\",{\"class\":\"media-body\"})\n",
    "    dates = []\n",
    "    for content in contents:\n",
    "        dates.append(content.time.text)\n",
    "    return dates\n",
    "def getCategory(page_no):\n",
    "    source_url = 'https://www.businesstimes.com.sg/search/coronavirus?page='+str(page_no)\n",
    "    res = requests.get(source_url)\n",
    "    bsoup = BeautifulSoup(res.content, features = 'html.parser')\n",
    "    contents = bsoup.findAll(\"div\",{\"class\":\"media-body\"})\n",
    "    categories = []\n",
    "    for content in contents:\n",
    "        url_string = content.a['href']\n",
    "        categories.append(url_string.split(\"/\")[3])\n",
    "    return categories"
   ]
  },
  {
   "cell_type": "markdown",
   "metadata": {},
   "source": [
    "Get news on Coronavirus from Business Times"
   ]
  },
  {
   "cell_type": "code",
   "execution_count": 333,
   "metadata": {},
   "outputs": [],
   "source": [
    "def getNews():\n",
    "    all_urls = []\n",
    "    all_headers = []\n",
    "    all_descs = []\n",
    "    all_dates = []\n",
    "    all_categories = []\n",
    "    for page_no in range(1,11):\n",
    "        all_urls += getUrls(page_no)\n",
    "        all_headers += getHeader(page_no)\n",
    "        all_descs += getDesc(page_no)\n",
    "        all_dates += getDates(page_no)\n",
    "        all_categories += getCategory(page_no)\n",
    "    news_df = {'Date':all_dates, 'Header':all_headers, 'Description':all_descs, \n",
    "               'Category':all_categories, 'URLS':all_urls, }\n",
    "    news = pd.DataFrame(data = news_df)\n",
    "    try:\n",
    "        news.to_csv('/Users/ernestng/Desktop/projects/webscrap/news.csv', encoding='utf-8', index=False)\n",
    "    except:\n",
    "        news.to_csv('/Users/ernestng/Desktop/projects/webscrap/news.csv', index=False, encoding='utf-8')\n",
    "    return news\n",
    "news = getNews()"
   ]
  },
  {
   "cell_type": "markdown",
   "metadata": {},
   "source": [
    "Work on scraped data stored in csv file"
   ]
  },
  {
   "cell_type": "code",
   "execution_count": 334,
   "metadata": {},
   "outputs": [
    {
     "data": {
      "text/html": [
       "<div>\n",
       "<style scoped>\n",
       "    .dataframe tbody tr th:only-of-type {\n",
       "        vertical-align: middle;\n",
       "    }\n",
       "\n",
       "    .dataframe tbody tr th {\n",
       "        vertical-align: top;\n",
       "    }\n",
       "\n",
       "    .dataframe thead th {\n",
       "        text-align: right;\n",
       "    }\n",
       "</style>\n",
       "<table border=\"1\" class=\"dataframe\">\n",
       "  <thead>\n",
       "    <tr style=\"text-align: right;\">\n",
       "      <th></th>\n",
       "      <th>Date</th>\n",
       "      <th>Header</th>\n",
       "      <th>Description</th>\n",
       "      <th>Category</th>\n",
       "      <th>URLS</th>\n",
       "    </tr>\n",
       "  </thead>\n",
       "  <tbody>\n",
       "    <tr>\n",
       "      <th>0</th>\n",
       "      <td>06 Apr 2020</td>\n",
       "      <td>BMW Q1 sales slump as coronavirus hits all mar...</td>\n",
       "      <td>[MUNICH] BMW AG's first-quarter car deliveries...</td>\n",
       "      <td>transport</td>\n",
       "      <td>https://www.businesstimes.com.sg/transport/bmw...</td>\n",
       "    </tr>\n",
       "    <tr>\n",
       "      <th>1</th>\n",
       "      <td>06 Apr 2020</td>\n",
       "      <td>Philippines' Nickel Asia to resume ore shipmen...</td>\n",
       "      <td>[MANILA] Nickel Asia Corp, the Philippines' la...</td>\n",
       "      <td>energy-commodities</td>\n",
       "      <td>https://www.businesstimes.com.sg/energy-commod...</td>\n",
       "    </tr>\n",
       "    <tr>\n",
       "      <th>2</th>\n",
       "      <td>06 Apr 2020</td>\n",
       "      <td>Spit, sweat and shaking on it: Three sports ha...</td>\n",
       "      <td>[PARIS] As the coronavirus brings the internat...</td>\n",
       "      <td>life-culture</td>\n",
       "      <td>https://www.businesstimes.com.sg/life-culture/...</td>\n",
       "    </tr>\n",
       "    <tr>\n",
       "      <th>3</th>\n",
       "      <td>06 Apr 2020</td>\n",
       "      <td>American joins United, others in suspending mo...</td>\n",
       "      <td>[NEW YORK] American Airlines Group Inc said la...</td>\n",
       "      <td>transport</td>\n",
       "      <td>https://www.businesstimes.com.sg/transport/ame...</td>\n",
       "    </tr>\n",
       "    <tr>\n",
       "      <th>4</th>\n",
       "      <td>06 Apr 2020</td>\n",
       "      <td>Japan animal ventilator maker looks to boost o...</td>\n",
       "      <td>[KAWAGUCHI] A Japanese medical equipment maker...</td>\n",
       "      <td>consumer</td>\n",
       "      <td>https://www.businesstimes.com.sg/consumer/japa...</td>\n",
       "    </tr>\n",
       "  </tbody>\n",
       "</table>\n",
       "</div>"
      ],
      "text/plain": [
       "          Date                                             Header  \\\n",
       "0  06 Apr 2020  BMW Q1 sales slump as coronavirus hits all mar...   \n",
       "1  06 Apr 2020  Philippines' Nickel Asia to resume ore shipmen...   \n",
       "2  06 Apr 2020  Spit, sweat and shaking on it: Three sports ha...   \n",
       "3  06 Apr 2020  American joins United, others in suspending mo...   \n",
       "4  06 Apr 2020  Japan animal ventilator maker looks to boost o...   \n",
       "\n",
       "                                         Description            Category  \\\n",
       "0  [MUNICH] BMW AG's first-quarter car deliveries...           transport   \n",
       "1  [MANILA] Nickel Asia Corp, the Philippines' la...  energy-commodities   \n",
       "2  [PARIS] As the coronavirus brings the internat...        life-culture   \n",
       "3  [NEW YORK] American Airlines Group Inc said la...           transport   \n",
       "4  [KAWAGUCHI] A Japanese medical equipment maker...            consumer   \n",
       "\n",
       "                                                URLS  \n",
       "0  https://www.businesstimes.com.sg/transport/bmw...  \n",
       "1  https://www.businesstimes.com.sg/energy-commod...  \n",
       "2  https://www.businesstimes.com.sg/life-culture/...  \n",
       "3  https://www.businesstimes.com.sg/transport/ame...  \n",
       "4  https://www.businesstimes.com.sg/consumer/japa...  "
      ]
     },
     "execution_count": 334,
     "metadata": {},
     "output_type": "execute_result"
    }
   ],
   "source": [
    "news = pd.read_csv('/Users/ernestng/Desktop/projects/webscrap/news.csv')\n",
    "news.head()"
   ]
  },
  {
   "cell_type": "markdown",
   "metadata": {},
   "source": [
    "Distribution of Categories related to COVID-19 in our dataset"
   ]
  },
  {
   "cell_type": "code",
   "execution_count": 335,
   "metadata": {},
   "outputs": [
    {
     "data": {
      "text/plain": [
       "<matplotlib.axes._subplots.AxesSubplot at 0x13a20cb50>"
      ]
     },
     "execution_count": 335,
     "metadata": {},
     "output_type": "execute_result"
    },
    {
     "data": {
      "image/png": "[encoded data removed]",
      "text/plain": [
       "<Figure size 1080x360 with 1 Axes>"
      ]
     },
     "metadata": {
      "needs_background": "light"
     },
     "output_type": "display_data"
    }
   ],
   "source": [
    "news.Category.value_counts(normalize=True).plot(kind='bar', grid=True,figsize=(15, 5))"
   ]
  },
  {
   "cell_type": "code",
   "execution_count": 336,
   "metadata": {},
   "outputs": [],
   "source": [
    "news = news.drop_duplicates('Description')\n",
    "news = news[~news['Description'].isnull()]\n",
    "#news = news[(news.Description.map(len) > 140) & (news.Description.map(len) <= 300)]"
   ]
  },
  {
   "cell_type": "markdown",
   "metadata": {},
   "source": [
    "Distribution of description lengths"
   ]
  },
  {
   "cell_type": "code",
   "execution_count": 337,
   "metadata": {},
   "outputs": [
    {
     "data": {
      "text/plain": [
       "<matplotlib.axes._subplots.AxesSubplot at 0x132ed8590>"
      ]
     },
     "execution_count": 337,
     "metadata": {},
     "output_type": "execute_result"
    },
    {
     "data": {
      "image/png": "[encoded data removed]",
      "text/plain": [
       "<Figure size 1080x360 with 1 Axes>"
      ]
     },
     "metadata": {
      "needs_background": "light"
     },
     "output_type": "display_data"
    }
   ],
   "source": [
    "news.Description.map(len).hist(figsize=(15, 5), bins=100)"
   ]
  },
  {
   "cell_type": "markdown",
   "metadata": {},
   "source": [
    "Text preprocessing for Description column\n"
   ]
  },
  {
   "cell_type": "code",
   "execution_count": 338,
   "metadata": {},
   "outputs": [],
   "source": [
    "stop_words = []\n",
    "\n",
    "f = open('/Users/ernestng/Desktop/projects/webscrap/stopwords.txt', 'r')\n",
    "for l in f.readlines():\n",
    "    stop_words.append(l.replace('\\n', ''))\n",
    "    \n",
    "additional_stop_words = ['t', 'will']\n",
    "stop_words += additional_stop_words\n",
    "\n",
    "def _removeNonAscii(s): \n",
    "    return \"\".join(i for i in s if ord(i)<128)\n",
    "\n",
    "def clean_text(text):\n",
    "    text = text.lower()\n",
    "    text = re.sub(r\"what's\", \"what is \", text)\n",
    "    text = text.replace('(ap)', '')\n",
    "    text = re.sub(r\"\\'s\", \" is \", text)\n",
    "    text = re.sub(r\"\\'ve\", \" have \", text)\n",
    "    text = re.sub(r\"can't\", \"cannot \", text)\n",
    "    text = re.sub(r\"n't\", \" not \", text)\n",
    "    text = re.sub(r\"i'm\", \"i am \", text)\n",
    "    text = re.sub(r\"\\'re\", \" are \", text)\n",
    "    text = re.sub(r\"\\'d\", \" would \", text)\n",
    "    text = re.sub(r\"\\'ll\", \" will \", text)\n",
    "    text = re.sub(r'\\W+', ' ', text)\n",
    "    text = re.sub(r'\\s+', ' ', text)\n",
    "    text = re.sub(r\"\\\\\", \"\", text)\n",
    "    text = re.sub(r\"\\'\", \"\", text)    \n",
    "    text = re.sub(r\"\\\"\", \"\", text)\n",
    "    text = re.sub('[^a-zA-Z ?!]+', '', text)\n",
    "    text = _removeNonAscii(text)\n",
    "    text = text.strip()\n",
    "    return text\n",
    "#function to clean and tokenize texts\n",
    "def tokenizer(text):\n",
    "    text = clean_text(text)    \n",
    "    tokens = [word_tokenize(sent) for sent in sent_tokenize(text)]\n",
    "    tokens = list(reduce(lambda x,y: x+y, tokens))\n",
    "    tokens = list(filter(lambda token: token not in (stop_words + list(punctuation)) , tokens))\n",
    "    return tokens\n"
   ]
  },
  {
   "cell_type": "markdown",
   "metadata": {},
   "source": [
    "I tokenize each description and place all under 'tokens' column in the news dataset"
   ]
  },
  {
   "cell_type": "code",
   "execution_count": 339,
   "metadata": {},
   "outputs": [
    {
     "name": "stdout",
     "output_type": "stream",
     "text": [
      "---------------------------------------------------------------------------------------------------------------------\n",
      "description: [MUNICH] BMW AG's first-quarter car deliveries sank by about 21 per cent to 477,111 as the coronavirus pandemic closed showrooms all over the world and idled production lines.\n",
      "\n",
      "tokens: ['munich', 'bmw', 'ag', 'is', 'first', 'quarter', 'car', 'deliveries', 'sank', 'by', 'about', 'per', 'cent', 'to', 'as', 'the', 'coronavirus', 'pandemic', 'closed', 'showrooms', 'all', 'over', 'the', 'world', 'and', 'idled', 'production', 'lines']\n",
      "---------------------------------------------------------------------------------------------------------------------\n",
      "description: [MANILA] Nickel Asia Corp, the Philippines' largest nickel ore miner and exporter, said on Monday its two units in Surigao del Norte province will resume ore shipments as the local government has allowed mining operations to resume after a suspension to curb the potential spread of the coronavirus.\n",
      "\n",
      "tokens: ['manila', 'nickel', 'asia', 'corp', 'the', 'philippines', 'largest', 'nickel', 'ore', 'miner', 'and', 'exporter', 'said', 'on', 'monday', 'its', 'two', 'units', 'in', 'surigao', 'del', 'norte', 'province', 'resume', 'ore', 'shipments', 'as', 'the', 'local', 'government', 'has', 'allowed', 'mining', 'operations', 'to', 'resume', 'after', 'a', 'suspension', 'to', 'curb', 'the', 'potential', 'spread', 'of', 'the', 'coronavirus']\n",
      "---------------------------------------------------------------------------------------------------------------------\n"
     ]
    }
   ],
   "source": [
    "news['tokens'] = list(map(tokenizer,news['Description']))\n",
    "#see how the descriptions are tokenized\n",
    "for description, tokens in zip(news['Description'].head(5), news['tokens'].head(2)):\n",
    "    print('---------------------------------------------------------------------------------------------------------------------')\n",
    "    print('description:', description)\n",
    "    print()\n",
    "    print('tokens:', tokens)\n",
    "print('---------------------------------------------------------------------------------------------------------------------')\n"
   ]
  },
  {
   "cell_type": "markdown",
   "metadata": {},
   "source": [
    "See most frequent tokens in each category"
   ]
  },
  {
   "cell_type": "code",
   "execution_count": 340,
   "metadata": {},
   "outputs": [
    {
     "name": "stdout",
     "output_type": "stream",
     "text": [
      "---------------------------------------------------------------------------------------------------------------------\n",
      "Category : energy-commodities\n",
      "top 10 keywords: [('the', 6), ('in', 4), ('as', 3), ('to', 3), ('coronavirus', 3), ('nickel', 2), ('ore', 2), ('on', 2), ('resume', 2), ('their', 2)]\n",
      "---------------------------------------------------------------------------------------------------------------------\n",
      "Category : real-estate\n",
      "top 10 keywords: [('the', 11), ('a', 4), ('of', 4), ('to', 4), ('in', 3), ('coronavirus', 3), ('and', 2), ('have', 2), ('said', 2), ('on', 2)]\n",
      "---------------------------------------------------------------------------------------------------------------------\n",
      "Category : stocks\n",
      "top 10 keywords: [('the', 16), ('on', 8), ('of', 8), ('coronavirus', 6), ('and', 5), ('as', 5), ('a', 5), ('to', 4), ('shares', 3), ('in', 3)]\n",
      "---------------------------------------------------------------------------------------------------------------------\n",
      "Category : garage\n",
      "top 10 keywords: [('to', 5), ('a', 4), ('the', 4), ('of', 3), ('as', 2), ('in', 2), ('us', 2), ('with', 2), ('london', 1), ('leaders', 1)]\n",
      "---------------------------------------------------------------------------------------------------------------------\n",
      "Category : consumer\n",
      "top 10 keywords: [('the', 14), ('to', 13), ('and', 10), ('coronavirus', 9), ('on', 8), ('a', 7), ('it', 6), ('said', 5), ('has', 5), ('is', 5)]\n",
      "---------------------------------------------------------------------------------------------------------------------\n",
      "Category : transport\n",
      "top 10 keywords: [('the', 16), ('to', 13), ('a', 9), ('is', 8), ('coronavirus', 8), ('pandemic', 6), ('and', 6), ('on', 6), ('said', 5), ('it', 4)]\n",
      "---------------------------------------------------------------------------------------------------------------------\n",
      "Category : life-culture\n",
      "top 10 keywords: [('the', 26), ('is', 7), ('of', 7), ('coronavirus', 6), ('to', 6), ('a', 6), ('for', 5), ('and', 5), ('in', 5), ('on', 5)]\n",
      "---------------------------------------------------------------------------------------------------------------------\n",
      "Category : government-economy\n",
      "top 10 keywords: [('the', 129), ('to', 57), ('of', 50), ('coronavirus', 46), ('a', 36), ('in', 35), ('on', 34), ('and', 30), ('is', 22), ('as', 21)]\n",
      "---------------------------------------------------------------------------------------------------------------------\n",
      "Category : banking-finance\n",
      "top 10 keywords: [('the', 13), ('to', 8), ('is', 8), ('coronavirus', 7), ('from', 6), ('on', 5), ('said', 4), ('and', 4), ('for', 4), ('of', 4)]\n",
      "---------------------------------------------------------------------------------------------------------------------\n",
      "Category : technology\n",
      "top 10 keywords: [('to', 5), ('the', 3), ('in', 3), ('at', 2), ('his', 2), ('coronavirus', 2), ('that', 2), ('would', 2), ('a', 2), ('us', 2)]\n",
      "---------------------------------------------------------------------------------------------------------------------\n"
     ]
    }
   ],
   "source": [
    "def keywords(category):\n",
    "    tokens = news[news['Category'] == category]['tokens']\n",
    "    alltokens = []\n",
    "    for token_list in tokens:\n",
    "        alltokens += token_list\n",
    "    counter = Counter(alltokens)\n",
    "    return counter.most_common(10)\n",
    "\n",
    "for category in set(news['Category']):\n",
    "    print('---------------------------------------------------------------------------------------------------------------------')\n",
    "    print('Category :', category)\n",
    "    print('top 10 keywords:', keywords(category))\n",
    "print('---------------------------------------------------------------------------------------------------------------------')\n"
   ]
  },
  {
   "cell_type": "code",
   "execution_count": null,
   "metadata": {},
   "outputs": [],
   "source": []
  },
  {
   "cell_type": "code",
   "execution_count": null,
   "metadata": {},
   "outputs": [],
   "source": []
  },
  {
   "cell_type": "code",
   "execution_count": null,
   "metadata": {},
   "outputs": [],
   "source": []
  }
 ],
 "metadata": {
  "kernelspec": {
   "display_name": "Python 3",
   "language": "python",
   "name": "python3"
  },
  "language_info": {
   "codemirror_mode": {
    "name": "ipython",
    "version": 3
   },
   "file_extension": ".py",
   "mimetype": "text/x-python",
   "name": "python",
   "nbconvert_exporter": "python",
   "pygments_lexer": "ipython3",
   "version": "3.7.6"
  }
 },
 "nbformat": 4,
 "nbformat_minor": 4
}
