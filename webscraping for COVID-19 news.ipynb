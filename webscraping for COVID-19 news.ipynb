{
 "cells": [
  {
   "cell_type": "code",
   "execution_count": 11,
   "metadata": {},
   "outputs": [],
   "source": [
    "# import packages\n",
    "from __future__ import print_function\n",
    "import requests\n",
    "import json\n",
    "import re\n",
    "from bs4 import BeautifulSoup\n",
    "import pandas as pd\n",
    "pd.options.display.max_columns = 10\n",
    "pd.options.mode.chained_assignment = None\n",
    "import numpy as np\n",
    "from datetime import datetime\n",
    "from tqdm import tqdm\n",
    "from matplotlib import pyplot as plt\n",
    "from nltk.tokenize import word_tokenize, sent_tokenize\n",
    "from nltk.corpus import stopwords\n",
    "from string import punctuation\n",
    "from collections import Counter\n",
    "from functools import reduce\n",
    "from selenium import webdriver\n"
   ]
  },
  {
   "cell_type": "markdown",
   "metadata": {},
   "source": [
    "Methods for scraping each page"
   ]
  },
  {
   "cell_type": "code",
   "execution_count": 12,
   "metadata": {},
   "outputs": [],
   "source": [
    "def getUrls(page_no): #takes in page number\n",
    "    source_url = 'https://www.businesstimes.com.sg/search/coronavirus?page='+str(page_no)\n",
    "    res = requests.get(source_url)\n",
    "    bsoup = BeautifulSoup(res.content, features = 'html.parser')\n",
    "    contents = bsoup.findAll(\"div\",{\"class\":\"media-body\"})\n",
    "    urls = []\n",
    "    for content in contents:\n",
    "        urls.append(content.a['href'])\n",
    "    return urls\n",
    "def getHeader(page_no):\n",
    "    source_url = 'https://www.businesstimes.com.sg/search/coronavirus?page='+str(page_no)\n",
    "    res = requests.get(source_url)\n",
    "    bsoup = BeautifulSoup(res.content, features = 'html.parser')\n",
    "    contents = bsoup.findAll(\"div\",{\"class\":\"media-body\"})\n",
    "    headers = []\n",
    "    for content in contents:\n",
    "        headers.append(content.a.text)\n",
    "    return headers\n",
    "def getDesc(page_no):\n",
    "    source_url = 'https://www.businesstimes.com.sg/search/coronavirus?page='+str(page_no)\n",
    "    res = requests.get(source_url)\n",
    "    bsoup = BeautifulSoup(res.content, features = 'html.parser')\n",
    "    contents = bsoup.findAll(\"div\",{\"class\":\"media-body\"})\n",
    "    descs = []\n",
    "    for content in contents:\n",
    "        descs.append(content.p.text)\n",
    "    return descs\n",
    "def getDates(page_no):\n",
    "    source_url = 'https://www.businesstimes.com.sg/search/coronavirus?page='+str(page_no)\n",
    "    res = requests.get(source_url)\n",
    "    bsoup = BeautifulSoup(res.content, features = 'html.parser')\n",
    "    contents = bsoup.findAll(\"div\",{\"class\":\"media-body\"})\n",
    "    dates = []\n",
    "    for content in contents:\n",
    "        dates.append(content.time.text)\n",
    "    return dates\n",
    "def getCategory(page_no):\n",
    "    source_url = 'https://www.businesstimes.com.sg/search/coronavirus?page='+str(page_no)\n",
    "    res = requests.get(source_url)\n",
    "    bsoup = BeautifulSoup(res.content, features = 'html.parser')\n",
    "    contents = bsoup.findAll(\"div\",{\"class\":\"media-body\"})\n",
    "    categories = []\n",
    "    for content in contents:\n",
    "        url_string = content.a['href']\n",
    "        categories.append(url_string.split(\"/\")[3])\n",
    "    return categories"
   ]
  },
  {
   "cell_type": "markdown",
   "metadata": {},
   "source": [
    "Get news on Coronavirus from Business Times"
   ]
  },
  {
   "cell_type": "code",
   "execution_count": 13,
   "metadata": {},
   "outputs": [],
   "source": [
    "def getNews():\n",
    "    all_urls = []\n",
    "    all_headers = []\n",
    "    all_descs = []\n",
    "    all_dates = []\n",
    "    all_categories = []\n",
    "    for page_no in range(1,11):\n",
    "        all_urls += getUrls(page_no)\n",
    "        all_headers += getHeader(page_no)\n",
    "        all_descs += getDesc(page_no)\n",
    "        all_dates += getDates(page_no)\n",
    "        all_categories += getCategory(page_no)\n",
    "    news_df = {'Date':all_dates, 'Header':all_headers, 'Description':all_descs, \n",
    "               'Category':all_categories, 'URLS':all_urls, }\n",
    "    news = pd.DataFrame(data = news_df)\n",
    "    try:\n",
    "        news.to_csv('/Users/ernestng/Desktop/projects/webscrap/news.csv', encoding='utf-8', index=False)\n",
    "    except:\n",
    "        news.to_csv('/Users/ernestng/Desktop/projects/webscrap/news.csv', index=False, encoding='utf-8')\n",
    "    return news\n",
    "news = getNews()"
   ]
  },
  {
   "cell_type": "markdown",
   "metadata": {},
   "source": [
    "Work on scraped data stored in csv file"
   ]
  },
  {
   "cell_type": "code",
   "execution_count": 14,
   "metadata": {},
   "outputs": [
    {
     "data": {
      "text/html": [
       "<div>\n",
       "<style scoped>\n",
       "    .dataframe tbody tr th:only-of-type {\n",
       "        vertical-align: middle;\n",
       "    }\n",
       "\n",
       "    .dataframe tbody tr th {\n",
       "        vertical-align: top;\n",
       "    }\n",
       "\n",
       "    .dataframe thead th {\n",
       "        text-align: right;\n",
       "    }\n",
       "</style>\n",
       "<table border=\"1\" class=\"dataframe\">\n",
       "  <thead>\n",
       "    <tr style=\"text-align: right;\">\n",
       "      <th></th>\n",
       "      <th>Date</th>\n",
       "      <th>Header</th>\n",
       "      <th>Description</th>\n",
       "      <th>Category</th>\n",
       "      <th>URLS</th>\n",
       "    </tr>\n",
       "  </thead>\n",
       "  <tbody>\n",
       "    <tr>\n",
       "      <th>0</th>\n",
       "      <td>09 Apr 2020</td>\n",
       "      <td>Exposure to coronavirus disruption low for maj...</td>\n",
       "      <td>Of the nearly 200 rated infrastructure issuers...</td>\n",
       "      <td>asean-business</td>\n",
       "      <td>https://www.businesstimes.com.sg/asean-busines...</td>\n",
       "    </tr>\n",
       "    <tr>\n",
       "      <th>1</th>\n",
       "      <td>09 Apr 2020</td>\n",
       "      <td>Catering group Sodexo says H2 sales may plunge...</td>\n",
       "      <td>[BENGALURU] French catering and food services ...</td>\n",
       "      <td>consumer</td>\n",
       "      <td>https://www.businesstimes.com.sg/consumer/cate...</td>\n",
       "    </tr>\n",
       "    <tr>\n",
       "      <th>2</th>\n",
       "      <td>09 Apr 2020</td>\n",
       "      <td>British bank bosses take pay cuts amid coronav...</td>\n",
       "      <td>[LONDON] Top executives at British lenders HSB...</td>\n",
       "      <td>banking-finance</td>\n",
       "      <td>https://www.businesstimes.com.sg/banking-finan...</td>\n",
       "    </tr>\n",
       "    <tr>\n",
       "      <th>3</th>\n",
       "      <td>09 Apr 2020</td>\n",
       "      <td>Robots may become heroes in war on coronavirus</td>\n",
       "      <td>[SAN FRANCISCO] Long maligned as job-stealers ...</td>\n",
       "      <td>technology</td>\n",
       "      <td>https://www.businesstimes.com.sg/technology/ro...</td>\n",
       "    </tr>\n",
       "    <tr>\n",
       "      <th>4</th>\n",
       "      <td>09 Apr 2020</td>\n",
       "      <td>Sungei Tengah Lodge declared 4th isolation are...</td>\n",
       "      <td>FOREIGN worker dormitory Sungei Tengah Lodge h...</td>\n",
       "      <td>government-economy</td>\n",
       "      <td>https://www.businesstimes.com.sg/government-ec...</td>\n",
       "    </tr>\n",
       "  </tbody>\n",
       "</table>\n",
       "</div>"
      ],
      "text/plain": [
       "          Date                                             Header  \\\n",
       "0  09 Apr 2020  Exposure to coronavirus disruption low for maj...   \n",
       "1  09 Apr 2020  Catering group Sodexo says H2 sales may plunge...   \n",
       "2  09 Apr 2020  British bank bosses take pay cuts amid coronav...   \n",
       "3  09 Apr 2020     Robots may become heroes in war on coronavirus   \n",
       "4  09 Apr 2020  Sungei Tengah Lodge declared 4th isolation are...   \n",
       "\n",
       "                                         Description            Category  \\\n",
       "0  Of the nearly 200 rated infrastructure issuers...      asean-business   \n",
       "1  [BENGALURU] French catering and food services ...            consumer   \n",
       "2  [LONDON] Top executives at British lenders HSB...     banking-finance   \n",
       "3  [SAN FRANCISCO] Long maligned as job-stealers ...          technology   \n",
       "4  FOREIGN worker dormitory Sungei Tengah Lodge h...  government-economy   \n",
       "\n",
       "                                                URLS  \n",
       "0  https://www.businesstimes.com.sg/asean-busines...  \n",
       "1  https://www.businesstimes.com.sg/consumer/cate...  \n",
       "2  https://www.businesstimes.com.sg/banking-finan...  \n",
       "3  https://www.businesstimes.com.sg/technology/ro...  \n",
       "4  https://www.businesstimes.com.sg/government-ec...  "
      ]
     },
     "execution_count": 14,
     "metadata": {},
     "output_type": "execute_result"
    }
   ],
   "source": [
    "news = pd.read_csv('/Users/ernestng/Desktop/projects/webscrap/news.csv')\n",
    "news.head()"
   ]
  },
  {
   "cell_type": "markdown",
   "metadata": {},
   "source": [
    "Distribution of Categories related to COVID-19 in our dataset"
   ]
  },
  {
   "cell_type": "code",
   "execution_count": 15,
   "metadata": {},
   "outputs": [
    {
     "data": {
      "text/plain": [
       "<matplotlib.axes._subplots.AxesSubplot at 0x12c66ee50>"
      ]
     },
     "execution_count": 15,
     "metadata": {},
     "output_type": "execute_result"
    },
    {
     "data": {
      "image/png": "[encoded data removed]",
      "text/plain": [
       "<Figure size 1080x360 with 1 Axes>"
      ]
     },
     "metadata": {
      "needs_background": "light"
     },
     "output_type": "display_data"
    }
   ],
   "source": [
    "news.Category.value_counts(normalize=True).plot(kind='bar', grid=True,figsize=(15, 5))"
   ]
  },
  {
   "cell_type": "code",
   "execution_count": 16,
   "metadata": {},
   "outputs": [],
   "source": [
    "news = news.drop_duplicates('Description')\n",
    "news = news[~news['Description'].isnull()]\n",
    "#news = news[(news.Description.map(len) > 140) & (news.Description.map(len) <= 300)]"
   ]
  },
  {
   "cell_type": "markdown",
   "metadata": {},
   "source": [
    "Distribution of description lengths"
   ]
  },
  {
   "cell_type": "code",
   "execution_count": 17,
   "metadata": {},
   "outputs": [
    {
     "data": {
      "text/plain": [
       "<matplotlib.axes._subplots.AxesSubplot at 0x12ca9e710>"
      ]
     },
     "execution_count": 17,
     "metadata": {},
     "output_type": "execute_result"
    },
    {
     "data": {
      "image/png": "[encoded data removed]",
      "text/plain": [
       "<Figure size 1080x360 with 1 Axes>"
      ]
     },
     "metadata": {
      "needs_background": "light"
     },
     "output_type": "display_data"
    }
   ],
   "source": [
    "news.Description.map(len).hist(figsize=(15, 5), bins=100)"
   ]
  },
  {
   "cell_type": "markdown",
   "metadata": {},
   "source": [
    "Text preprocessing for Description column\n"
   ]
  },
  {
   "cell_type": "code",
   "execution_count": 21,
   "metadata": {},
   "outputs": [],
   "source": [
    "stop_words = []\n",
    "\n",
    "f = open('/Users/ernestng/Desktop/projects/webscrap/stopwords.txt', 'r')\n",
    "for l in f.readlines():\n",
    "    stop_words.append(l.replace('\\n', ''))\n",
    "    \n",
    "additional_stop_words = ['t', 'will','a']\n",
    "stop_words += additional_stop_words\n",
    "\n",
    "def _removeNonAscii(s): \n",
    "    return \"\".join(i for i in s if ord(i)<128)\n",
    "\n",
    "def clean_text(text):\n",
    "    text = text.lower()\n",
    "    text = re.sub(r\"what's\", \"what is \", text)\n",
    "    text = text.replace('(ap)', '')\n",
    "    text = re.sub(r\"\\'s\", \" is \", text)\n",
    "    text = re.sub(r\"\\'ve\", \" have \", text)\n",
    "    text = re.sub(r\"can't\", \"cannot \", text)\n",
    "    text = re.sub(r\"n't\", \" not \", text)\n",
    "    text = re.sub(r\"i'm\", \"i am \", text)\n",
    "    text = re.sub(r\"\\'re\", \" are \", text)\n",
    "    text = re.sub(r\"\\'d\", \" would \", text)\n",
    "    text = re.sub(r\"\\'ll\", \" will \", text)\n",
    "    text = re.sub(r'\\W+', ' ', text)\n",
    "    text = re.sub(r'\\s+', ' ', text)\n",
    "    text = re.sub(r\"\\\\\", \"\", text)\n",
    "    text = re.sub(r\"\\'\", \"\", text)    \n",
    "    text = re.sub(r\"\\\"\", \"\", text)\n",
    "    text = re.sub('[^a-zA-Z ?!]+', '', text)\n",
    "    text = _removeNonAscii(text)\n",
    "    text = text.strip()\n",
    "    return text\n",
    "#function to clean and tokenize texts\n",
    "def tokenizer(text):\n",
    "    text = clean_text(text)    \n",
    "    tokens = [word_tokenize(sent) for sent in sent_tokenize(text)]\n",
    "    tokens = list(reduce(lambda x,y: x+y, tokens))\n",
    "    tokens = list(filter(lambda token: token not in (stop_words + list(punctuation)) , tokens))\n",
    "    return tokens\n"
   ]
  },
  {
   "cell_type": "markdown",
   "metadata": {},
   "source": [
    "I tokenize each description and place all under 'tokens' column in the news dataset"
   ]
  },
  {
   "cell_type": "code",
   "execution_count": 22,
   "metadata": {},
   "outputs": [
    {
     "name": "stdout",
     "output_type": "stream",
     "text": [
      "---------------------------------------------------------------------------------------------------------------------\n",
      "description: Of the nearly 200 rated infrastructure issuers in Asia-Pacific, 68 per cent have low exposure to disruption from the coronavirus, 23 per cent have moderate exposure, and 9 per cent have high exposure said Moody's Investors Service in a sector comment released on Thursday. \n",
      "\n",
      "tokens: ['rated', 'infrastructure', 'issuers', 'asia', 'pacific', 'cent', 'low', 'exposure', 'disruption', 'coronavirus', 'cent', 'moderate', 'exposure', 'cent', 'high', 'exposure', 'moody', 'investors', 'service', 'sector', 'comment', 'released', 'thursday']\n",
      "---------------------------------------------------------------------------------------------------------------------\n",
      "description: [BENGALURU] French catering and food services group Sodexo said on Thursday that second-half revenue could tumble as much as 26 per cent due to government measures to contain the coronavirus, which will likely batter underlying operating income.\n",
      "\n",
      "tokens: ['bengaluru', 'french', 'catering', 'food', 'services', 'group', 'sodexo', 'thursday', 'second', 'half', 'revenue', 'tumble', 'cent', 'government', 'measures', 'coronavirus', 'batter', 'underlying', 'operating', 'income']\n",
      "---------------------------------------------------------------------------------------------------------------------\n"
     ]
    }
   ],
   "source": [
    "news['tokens'] = list(map(tokenizer,news['Description']))\n",
    "#see how the descriptions are tokenized\n",
    "for description, tokens in zip(news['Description'].head(5), news['tokens'].head(2)):\n",
    "    print('---------------------------------------------------------------------------------------------------------------------')\n",
    "    print('description:', description)\n",
    "    print()\n",
    "    print('tokens:', tokens)\n",
    "print('---------------------------------------------------------------------------------------------------------------------')\n"
   ]
  },
  {
   "cell_type": "markdown",
   "metadata": {},
   "source": [
    "See most frequent tokens in each category"
   ]
  },
  {
   "cell_type": "code",
   "execution_count": 23,
   "metadata": {},
   "outputs": [
    {
     "name": "stdout",
     "output_type": "stream",
     "text": [
      "---------------------------------------------------------------------------------------------------------------------\n",
      "Category : transport\n",
      "top 10 keywords: [('coronavirus', 6), ('pandemic', 4), ('industry', 4), ('cent', 3), ('flights', 3), ('car', 2), ('year', 2), ('cruise', 2), ('monday', 2), ('raise', 2)]\n",
      "---------------------------------------------------------------------------------------------------------------------\n",
      "Category : stocks\n",
      "top 10 keywords: [('coronavirus', 13), ('shares', 8), ('tuesday', 6), ('investors', 5), ('bengaluru', 5), ('european', 5), ('early', 5), ('signs', 5), ('pandemic', 5), ('rose', 5)]\n",
      "---------------------------------------------------------------------------------------------------------------------\n",
      "Category : companies-markets\n",
      "top 10 keywords: [('coronavirus', 3), ('dollar', 2), ('fitch', 2), ('ratings', 2), ('lowered', 2), ('outlook', 2), ('lippo', 2), ('malls', 2), ('indonesia', 2), ('retail', 2)]\n",
      "---------------------------------------------------------------------------------------------------------------------\n",
      "Category : opinion\n",
      "top 10 keywords: [('europe', 2), ('week', 1), ('growing', 1), ('optimism', 1), ('asia', 1), ('coronavirus', 1), ('crisis', 1), ('passed', 1), ('peak', 1), ('global', 1)]\n",
      "---------------------------------------------------------------------------------------------------------------------\n",
      "Category : energy-commodities\n",
      "top 10 keywords: [('coronavirus', 3), ('monday', 2), ('nickel', 2), ('ore', 2), ('resume', 2), ('oil', 1), ('prices', 1), ('clawed', 1), ('positive', 1), ('territory', 1)]\n",
      "---------------------------------------------------------------------------------------------------------------------\n",
      "Category : life-culture\n",
      "top 10 keywords: [('york', 2), ('paris', 1), ('coronavirus', 1), ('brings', 1), ('international', 1), ('sports', 1), ('calendar', 1), ('grinding', 1), ('halt', 1), ('afp', 1)]\n",
      "---------------------------------------------------------------------------------------------------------------------\n",
      "Category : garage\n",
      "top 10 keywords: [('london', 1), ('leaders', 1), ('aim', 1), ('solve', 1), ('diverse', 1), ('range', 1), ('problems', 1), ('poverty', 1), ('pollution', 1), ('social', 1)]\n",
      "---------------------------------------------------------------------------------------------------------------------\n",
      "Category : government-economy\n",
      "top 10 keywords: [('coronavirus', 40), ('washington', 9), ('pandemic', 9), ('outbreak', 8), ('wednesday', 8), ('monday', 8), ('economic', 7), ('government', 7), ('tuesday', 7), ('minister', 7)]\n",
      "---------------------------------------------------------------------------------------------------------------------\n",
      "Category : consumer\n",
      "top 10 keywords: [('coronavirus', 10), ('food', 3), ('thursday', 3), ('people', 3), ('bengaluru', 2), ('government', 2), ('britain', 2), ('big', 2), ('supermarkets', 2), ('fear', 2)]\n",
      "---------------------------------------------------------------------------------------------------------------------\n",
      "Category : real-estate\n",
      "top 10 keywords: [('coronavirus', 4), ('government', 2), ('impact', 2), ('outbreak', 2), ('business', 2), ('rents', 2), ('capital', 2), ('sisi', 2), ('london', 1), ('britain', 1)]\n",
      "---------------------------------------------------------------------------------------------------------------------\n",
      "Category : technology\n",
      "top 10 keywords: [('san', 3), ('francisco', 3), ('coronavirus', 3), ('long', 1), ('maligned', 1), ('job', 1), ('stealers', 1), ('aspiring', 1), ('overlords', 1), ('robots', 1)]\n",
      "---------------------------------------------------------------------------------------------------------------------\n",
      "Category : banking-finance\n",
      "top 10 keywords: [('coronavirus', 4), ('outbreak', 2), ('economy', 2), ('beijing', 2), ('london', 1), ('top', 1), ('executives', 1), ('british', 1), ('lenders', 1), ('hsbc', 1)]\n",
      "---------------------------------------------------------------------------------------------------------------------\n",
      "Category : asean-business\n",
      "top 10 keywords: [('cent', 3), ('exposure', 3), ('rated', 1), ('infrastructure', 1), ('issuers', 1), ('asia', 1), ('pacific', 1), ('low', 1), ('disruption', 1), ('coronavirus', 1)]\n",
      "---------------------------------------------------------------------------------------------------------------------\n"
     ]
    }
   ],
   "source": [
    "def keywords(category):\n",
    "    tokens = news[news['Category'] == category]['tokens']\n",
    "    alltokens = []\n",
    "    for token_list in tokens:\n",
    "        alltokens += token_list\n",
    "    counter = Counter(alltokens)\n",
    "    return counter.most_common(10)\n",
    "\n",
    "for category in set(news['Category']):\n",
    "    print('---------------------------------------------------------------------------------------------------------------------')\n",
    "    print('Category :', category)\n",
    "    print('top 10 keywords:', keywords(category))\n",
    "print('---------------------------------------------------------------------------------------------------------------------')\n"
   ]
  },
  {
   "cell_type": "code",
   "execution_count": null,
   "metadata": {},
   "outputs": [],
   "source": []
  },
  {
   "cell_type": "code",
   "execution_count": null,
   "metadata": {},
   "outputs": [],
   "source": []
  },
  {
   "cell_type": "code",
   "execution_count": null,
   "metadata": {},
   "outputs": [],
   "source": []
  }
 ],
 "metadata": {
  "kernelspec": {
   "display_name": "Python 3",
   "language": "python",
   "name": "python3"
  },
  "language_info": {
   "codemirror_mode": {
    "name": "ipython",
    "version": 3
   },
   "file_extension": ".py",
   "mimetype": "text/x-python",
   "name": "python",
   "nbconvert_exporter": "python",
   "pygments_lexer": "ipython3",
   "version": "3.7.6"
  }
 },
 "nbformat": 4,
 "nbformat_minor": 4
}
